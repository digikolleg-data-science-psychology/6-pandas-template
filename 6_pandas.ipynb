{
 "cells": [
  {
   "attachments": {},
   "cell_type": "markdown",
   "id": "270de543",
   "metadata": {
    "pycharm": {
     "name": "#%% md\n"
    }
   },
   "source": [
    "Fill in your github username and idm credentials below:"
   ]
  },
  {
   "cell_type": "code",
   "execution_count": null,
   "id": "de02c832",
   "metadata": {
    "pycharm": {
     "is_executing": true,
     "name": "#%%\n"
    },
    "vscode": {
     "languageId": "python"
    }
   },
   "outputs": [],
   "source": [
    "github_username = \"\"\n",
    "idm_credentials = \"\""
   ]
  },
  {
   "cell_type": "markdown",
   "id": "c04d7869",
   "metadata": {
    "pycharm": {
     "name": "#%% md\n"
    }
   },
   "source": [
    "---"
   ]
  },
  {
   "cell_type": "markdown",
   "id": "755c6140-79ab-496f-9e79-71972edca5bc",
   "metadata": {
    "pycharm": {
     "name": "#%% md\n"
    }
   },
   "source": [
    "# **Applied Data Science in Medicine & Psychology - Assignment 6**\n",
    "## Pandas\n",
    "---\n",
    "**Deadline: dd.mm.yyyy, hh:mm**\n",
    "### **General Setup and Submission**\n",
    "1. Save an editable copy of this notebook to your Google Drive ``File`` $\\rightarrow$ ``Save a copy in Drive`` and remove the automatically appended \"Copy of\" text. **Do not change the original file name**.\n",
    "2. Work on the assignment in the *copied* version of the notebook. Make sure that you **replace** all parts of the tasks indicated with *YOUR CODE HERE* and **raise NotImplementedError()** (otherwise this causes an error in your implementation) or *YOUR ANSWER HERE* with your solution.\n",
    "3. If you take a break during the implementation, you can save the current status of your work in your repository following the submission instructions below. When you continue working on the assignment, do this in the version of the notebook that you saved in your Google Drive (access from your Google Colab account) or your repository.\n",
    "4. After finishing the assignment submit your assignment as follows:\n",
    "    * Check that everything runs as expected. To do that select in the menubar ``Runtime`` $\\rightarrow$ ``Restart and run all``. This will clear all your local variables and runs your notebook from the beginning.\n",
    "    * Save your notebook, click ``File`` $\\rightarrow$ ``Save``\n",
    "    * Click ``File`` $\\rightarrow$ ``Save a copy in GitHub``\n",
    "    * Select ``digikolleg-data-science-psychology/6-pandas-<username>`` from the repository drop-down menu\n",
    "    * Type ``6_pandas.ipynb`` into the file path text box\n",
    "    * Optionally, you may enter a description into the \"Commit message\" text box (like: \"solved task 1\" or \"ready for grading\")\n",
    "    * Make sure that the \"Include a link to Colaboratory\" box is checked\n",
    "    * Press \"Ok\"\n",
    "    * A new tab or window should open up, displaying your submitted notebook within your GitHub repository\n",
    "\n",
    "Before the assignment deadline, you can re-submit your assignment as often as you would like. This will update your assignment file in your assignment's repository."
   ]
  },
  {
   "cell_type": "markdown",
   "id": "2fe61c2c-a030-4c02-8214-7db7d1c10df5",
   "metadata": {},
   "source": [
    "### **Assignment Description**\n",
    "In this assignment, we take a first glance at the ``Pandas`` package. ``Pandas`` is a powerful Python library that provides easy-to-use data structures and data analysis tools, allowing users to efficiently manipulate, analyze, and visualize data, making complex data operations simple and intuitive.\n",
    "\n",
    "#### **Assignment Goals**\n",
    "You are going to learn the following things in this assignment:\n",
    "1. how to create data frames from dictionaries and arrays\n",
    "2. how to apply operations to data frames\n",
    "3. how to add and remove rows/columns\n",
    "4. how to index data in data frames (based on conditions)\n",
    "5. how to create a multi-index data frame\n",
    "6. how to transform a data frame from wide to long format\n",
    "7. how to group data in a data frame\n",
    "\n",
    "#### **Assignment Point Value**\n",
    "This assignment is worth a total (up to) **12** points. If your code passes all of the manual and automatic tests you will receive full credit."
   ]
  },
  {
   "cell_type": "markdown",
   "id": "89d2a637-e274-43a8-a88a-23bb204e96db",
   "metadata": {},
   "source": [
    "### **Tasks**\n",
    "Make sure that you now work on your *copied* version of this assignment's notebook."
   ]
  },
  {
   "cell_type": "markdown",
   "id": "42e90337-1130-4412-b037-d1267bc45101",
   "metadata": {},
   "source": [
    "#### 0. Imports and Setup\n",
    "Please **run** the cell below to import the libraries needed for this assignment."
   ]
  },
  {
   "cell_type": "code",
   "execution_count": null,
   "id": "23f1cef0-5d30-4548-b6b6-4020b3013f8c",
   "metadata": {
    "tags": []
   },
   "outputs": [],
   "source": [
    "import matplotlib.pyplot as plt\n",
    "import numpy as np\n",
    "import pandas as pd\n",
    "# install the BioPsyKit package\n",
    "!pip install biopsykit\n",
    "import biopsykit as bp\n",
    "from itertools import product"
   ]
  },
  {
   "cell_type": "markdown",
   "id": "9e1ace6b-bbf4-4d02-9c31-20937bf0eb8c",
   "metadata": {},
   "source": [
    "#### 1. Pandas Introduction\n",
    "In this task, we will work with an artificial example dataset containing information about patients undergoing the *Oral Glucose Tolerance* (OGT) Test to investigate whether they have diabetes. The OGT Test measures blood sugar before and after patients drink a glucose-containing liquid. This usually involves fasting for 8 hours before the first test, drinking the liquid, then having a follow-up test 2 hours later. Typical blood glucose levels for adults are:\n",
    "\n",
    "| Test time | Without diabetes | With diabetes |\n",
    "| :- | :-: | :- |\n",
    "| Before intake | <= 6 mmol/l | >= 7.0 mmol/l |\n",
    "| 2 hours after intake | <= 7.8 mmol/l | >= 11.0 mmol/l|\n",
    "\n",
    "##### 1.1 Create a ``pandas.DataFrame`` called ``df`` containing the information from ``patients`` and ``samples``. To do so:\n",
    "* Create ``pandas.DataFrame`` called ``df_info`` from ``patients``\n",
    "* Create a ``pandas.DataFrame`` called ``df_samples`` from ``samples``. Set the column names such that the first sample is called ``S0`` and the second sample ``S1``.\n",
    "* Fuse ``df_info`` and ``df_samples`` in ``df`` using [pandas.concat](https://pandas.pydata.org/docs/reference/api/pandas.concat.html) and set the index such that ``P0`` belongs to Jane, ``P1`` to John, and ``P2`` to Ava\n",
    "* Display ``df``\n",
    "\n",
    "**Hint**: ``Pandas`` is already imported above."
   ]
  },
  {
   "cell_type": "code",
   "execution_count": null,
   "id": "76500882-aa4e-4283-8939-a98d36700fa2",
   "metadata": {
    "deletable": false,
    "nbgrader": {
     "cell_type": "code",
     "checksum": "15ecf6ee879ec8b655e5f4f3abc59679",
     "grade": false,
     "grade_id": "create_df",
     "locked": false,
     "schema_version": 3,
     "solution": true,
     "task": false
    },
    "tags": []
   },
   "outputs": [],
   "source": [
    "patients = {\n",
    "    \"name\": [\"Jane\", \"John\", \"Ava\"],\n",
    "    \"age\": [24, 21, 27]\n",
    "}\n",
    "\n",
    "samples = np.array([[5.8, 7.7], [7.2, 11.5], [7.5, 11.9]])\n",
    "\n",
    "# YOUR CODE HERE\n",
    "raise NotImplementedError()"
   ]
  },
  {
   "cell_type": "code",
   "execution_count": null,
   "id": "b6ed2cba-cad0-4bc6-b414-ed8aaf6bc87a",
   "metadata": {
    "deletable": false,
    "editable": false,
    "nbgrader": {
     "cell_type": "code",
     "checksum": "23e87370dcf783ced61965152a91e056",
     "grade": true,
     "grade_id": "create_df_test",
     "locked": true,
     "points": 1,
     "schema_version": 3,
     "solution": false,
     "task": false
    },
    "tags": []
   },
   "outputs": [],
   "source": [
    "# run tests to check your implementation\n",
    "assert df_info.shape == (3, 2) and list(df_info.columns) == [\"name\", \"age\"], \"Check if you created df_info correctly\"\n",
    "assert df_samples.shape == (3, 2) and list(df_samples.columns) == [\"S0\", \"S1\"], \"Check if you created df_samples correctly\"\n",
    "assert df.shape == (3, 4), \"Check if you concatenated the data frames with the correct axis\"\n",
    "assert list(df.index) == [\"P0\", \"P1\", \"P2\"], \"Check if you set your index as specified\""
   ]
  },
  {
   "cell_type": "markdown",
   "id": "060566e2-f58c-40bc-a7c8-0806b5f47e28",
   "metadata": {},
   "source": [
    "##### 1.2 Add another row to ``df`` with \n",
    "* index: P3, name: Scott, age: 23, S0: 5.9, S1: 7.6\n",
    "* Display the new version of ``df``"
   ]
  },
  {
   "cell_type": "code",
   "execution_count": null,
   "id": "2612b6a1-97f3-40cb-a0c4-a492a45bce43",
   "metadata": {
    "deletable": false,
    "nbgrader": {
     "cell_type": "code",
     "checksum": "1f8df06f1e8a4f7c03eb465ad356c2f1",
     "grade": false,
     "grade_id": "add_row",
     "locked": false,
     "schema_version": 3,
     "solution": true,
     "task": false
    },
    "tags": []
   },
   "outputs": [],
   "source": [
    "# YOUR CODE HERE\n",
    "raise NotImplementedError()"
   ]
  },
  {
   "cell_type": "code",
   "execution_count": null,
   "id": "b329a9ee-270d-4edc-a246-e1245097db7a",
   "metadata": {
    "deletable": false,
    "editable": false,
    "nbgrader": {
     "cell_type": "code",
     "checksum": "04c2249f3f14029e5074e65004bd2538",
     "grade": true,
     "grade_id": "add_row_test",
     "locked": true,
     "points": 0.5,
     "schema_version": 3,
     "solution": false,
     "task": false
    },
    "tags": []
   },
   "outputs": [],
   "source": [
    "# run tests to check your implementation\n",
    "assert df.shape == (4, 4), \"Check if you added a row and not a column\"\n",
    "assert list(df.index) == [\"P0\", \"P1\", \"P2\", \"P3\"], \"Check if you set your index for Scott correctly\"\n",
    "assert df.loc[\"P3\", \"name\"] == \"Scott\" and df.loc[\"P3\", \"age\"] == 23 and df.loc[\"P3\", \"S0\"] == 5.9 and df.loc[\"P3\", \"S1\"] == 7.6, \"Check your inserted values for Scott\"  "
   ]
  },
  {
   "cell_type": "markdown",
   "id": "7713f447-d9bf-4372-8275-5bf09aea0e34",
   "metadata": {},
   "source": [
    "##### 1.3 Calculate the mean value for each of the samples (S0 and S1 separately) over all patients using ``np.mean`` and save the result in ``df_mean``:\n",
    "\n",
    "**Hint**: Access the relevant columns first and then apply ``np.mean``."
   ]
  },
  {
   "cell_type": "code",
   "execution_count": null,
   "id": "5fdef016-54a9-407a-bdff-1f3630b7a138",
   "metadata": {
    "deletable": false,
    "nbgrader": {
     "cell_type": "code",
     "checksum": "87a778565cd358a19cfe9d165136e898",
     "grade": false,
     "grade_id": "df_mean",
     "locked": false,
     "schema_version": 3,
     "solution": true,
     "task": false
    },
    "tags": []
   },
   "outputs": [],
   "source": [
    "# YOUR CODE HERE\n",
    "raise NotImplementedError()"
   ]
  },
  {
   "cell_type": "code",
   "execution_count": null,
   "id": "f2ed8727-6970-465c-9625-5d90e752db36",
   "metadata": {
    "deletable": false,
    "editable": false,
    "nbgrader": {
     "cell_type": "code",
     "checksum": "db37d92f87cc3d09a9a1fb5393dbad73",
     "grade": true,
     "grade_id": "df_mean_test",
     "locked": true,
     "points": 0.5,
     "schema_version": 3,
     "solution": false,
     "task": false
    },
    "tags": []
   },
   "outputs": [],
   "source": [
    "# run tests to check your implementation\n",
    "assert type(df_mean) == pd.Series, \"Ensure that df_mean is a pandas.Series and not a numpy.array or pandas.DataFrame\"\n",
    "assert df_mean[\"S0\"] == 6.6 and df_mean[\"S1\"] == 9.675, \"Check your mean calculation\""
   ]
  },
  {
   "cell_type": "markdown",
   "id": "52fe3c10-0865-469c-aad5-84a16c8d1218",
   "metadata": {},
   "source": [
    "##### 1.4 Index the row which corresponds to Ava and save the result in ``df_ava``:"
   ]
  },
  {
   "cell_type": "code",
   "execution_count": null,
   "id": "32144850-5ea6-4eb5-8eb8-7194ebd0b445",
   "metadata": {
    "deletable": false,
    "nbgrader": {
     "cell_type": "code",
     "checksum": "2ae407732c3c9e82bbc92bfe2cca82c7",
     "grade": false,
     "grade_id": "df_ava",
     "locked": false,
     "schema_version": 3,
     "solution": true,
     "task": false
    },
    "tags": []
   },
   "outputs": [],
   "source": [
    "# YOUR CODE HERE\n",
    "raise NotImplementedError()"
   ]
  },
  {
   "cell_type": "code",
   "execution_count": null,
   "id": "e3f68d7b-704a-4762-9c94-57c044021cdd",
   "metadata": {
    "deletable": false,
    "editable": false,
    "nbgrader": {
     "cell_type": "code",
     "checksum": "062c925e5ef4089641e24597e102a9e1",
     "grade": true,
     "grade_id": "df_ava_test",
     "locked": true,
     "points": 0.5,
     "schema_version": 3,
     "solution": false,
     "task": false
    },
    "tags": []
   },
   "outputs": [],
   "source": [
    "# run tests to check your implementation\n",
    "if type(df_ava) == pd.Series:\n",
    "    assert df_ava.shape == (4,), \"Check that you indexed the whole row of Ava\"\n",
    "    assert df_ava[\"name\"] == \"Ava\", \"Check that you indexed the correct row\"\n",
    "else:\n",
    "    assert df_ava.shape == (1, 4), \"Check that you indexed the whole row of Ava\"\n",
    "    assert (df_ava[\"name\"] == \"Ava\").all(), \"Check that you indexed the correct row\""
   ]
  },
  {
   "cell_type": "markdown",
   "id": "bf14d550-c641-4c3a-8dea-bc68ee84ab04",
   "metadata": {},
   "source": [
    "##### 1.5 Create a ``pandas.DataFrame`` called ``df_diabetic`` which contains only the patients where the OGT Test indicates that they have diabetes:\n",
    "**Hint**: Check the task description again for the correct levels."
   ]
  },
  {
   "cell_type": "code",
   "execution_count": null,
   "id": "d5351065-a8b2-4859-a101-d1c587637516",
   "metadata": {
    "deletable": false,
    "nbgrader": {
     "cell_type": "code",
     "checksum": "637f8c6860aad2d86817b0f31a5824cf",
     "grade": false,
     "grade_id": "df_diabetic",
     "locked": false,
     "schema_version": 3,
     "solution": true,
     "task": false
    },
    "tags": []
   },
   "outputs": [],
   "source": [
    "# YOUR CODE HERE\n",
    "raise NotImplementedError()"
   ]
  },
  {
   "cell_type": "code",
   "execution_count": null,
   "id": "d7fc3b98-da52-4417-aa71-95c21c2d0480",
   "metadata": {
    "deletable": false,
    "editable": false,
    "nbgrader": {
     "cell_type": "code",
     "checksum": "da3c5b5c21cfa3ecd5c6bc30c9d1d9ac",
     "grade": true,
     "grade_id": "df_diabetic_test",
     "locked": true,
     "points": 0.5,
     "schema_version": 3,
     "solution": false,
     "task": false
    },
    "tags": []
   },
   "outputs": [],
   "source": [
    "# run test to check your implementation\n",
    "assert df_diabetic.shape == (2, 4) and list(df_diabetic.index) == [\"P1\", \"P2\"], \"Check that you used the right levels to determine diabetes\""
   ]
  },
  {
   "cell_type": "markdown",
   "id": "8b0b06ff-8425-4860-ab53-e7c8778ad160",
   "metadata": {},
   "source": [
    "##### 1.6 Create a ``pandas.DataFrame`` called ``df_non_diabetic`` where you [drop](https://pandas.pydata.org/docs/reference/api/pandas.DataFrame.drop.html) all patients included in ``df_diabetic``:"
   ]
  },
  {
   "cell_type": "code",
   "execution_count": null,
   "id": "67e57e87-e028-4696-9780-d06cfcf908ce",
   "metadata": {
    "deletable": false,
    "nbgrader": {
     "cell_type": "code",
     "checksum": "191d5cc4a33ffeb03fe8daddf1caf07c",
     "grade": false,
     "grade_id": "df_non_diabetic",
     "locked": false,
     "schema_version": 3,
     "solution": true,
     "task": false
    },
    "tags": []
   },
   "outputs": [],
   "source": [
    "# YOUR CODE HERE\n",
    "raise NotImplementedError()"
   ]
  },
  {
   "cell_type": "code",
   "execution_count": null,
   "id": "17f97769-09f1-472e-bcff-d9e54fd14c0a",
   "metadata": {
    "deletable": false,
    "editable": false,
    "nbgrader": {
     "cell_type": "code",
     "checksum": "d6b1ea189778ccd6eee4354931a7c2f0",
     "grade": true,
     "grade_id": "df_non_diabetic_test",
     "locked": true,
     "points": 0.5,
     "schema_version": 3,
     "solution": false,
     "task": false
    },
    "tags": []
   },
   "outputs": [],
   "source": [
    "# run test to check your implementation\n",
    "assert df_non_diabetic.shape == (2, 4) and list(df_non_diabetic.index) == [\"P0\", \"P3\"], \"Check if you removed the correct patients\" "
   ]
  },
  {
   "cell_type": "markdown",
   "id": "bb8d3028-b1dc-43f4-8301-a51e699fcaa9",
   "metadata": {},
   "source": [
    "##### 1.7 Add a column called ``diabetic`` to ``df`` that has ``True`` values if the patient is diabetic and ``False`` values if the patient is not:"
   ]
  },
  {
   "cell_type": "code",
   "execution_count": null,
   "id": "d4e0b2aa-501b-4660-a9df-e59561d9cd7f",
   "metadata": {
    "deletable": false,
    "nbgrader": {
     "cell_type": "code",
     "checksum": "fb992a6ac5af0f214a39afdfef550c7b",
     "grade": false,
     "grade_id": "add_column",
     "locked": false,
     "schema_version": 3,
     "solution": true,
     "task": false
    },
    "tags": []
   },
   "outputs": [],
   "source": [
    "# YOUR CODE HERE\n",
    "raise NotImplementedError()"
   ]
  },
  {
   "cell_type": "code",
   "execution_count": null,
   "id": "fabb8f78-8cf0-423d-b86b-80f26fef8e6f",
   "metadata": {
    "deletable": false,
    "editable": false,
    "nbgrader": {
     "cell_type": "code",
     "checksum": "4852e41f5ee0bb87f2f029f4c34f2202",
     "grade": true,
     "grade_id": "add_column_test",
     "locked": true,
     "points": 0.5,
     "schema_version": 3,
     "solution": false,
     "task": false
    },
    "tags": []
   },
   "outputs": [],
   "source": [
    "# run tests to check your implementation\n",
    "assert df.shape == (4, 5), \"Check if you added the column correctly\"\n",
    "assert list(df.columns) == [\"name\", \"age\", \"S0\", \"S1\", \"diabetic\"], \"Check if you set the column name correctly\"\n",
    "assert list(df[\"diabetic\"]) == [False, True, True, False], \"Check that you determine diabetes correctly\""
   ]
  },
  {
   "cell_type": "markdown",
   "id": "152fe889-8d3d-4f15-8b9a-9712abc5bb1d",
   "metadata": {},
   "source": [
    "#### 2. Acute Stress Reduction with Cold Face Test\n",
    "In this task, we analyze a dataset that was recorded during a study investigating the capability of the Cold Face Test (CFT) (cold mask applied to the face) to reduce acute stress. 28 participants underwent the following study protocol:\n",
    "* **Preparation Phase** (Phase 0)\n",
    "* **Study Phase** (Phase 1, 2, 3 - all the following subphases were repeated 3 times)\n",
    "    * *subphase 0*: Baseline\n",
    "    * *subphase 1*:\n",
    "        * Control Condition (14 participants): Resting Period\n",
    "        * Intervention Condition (14 participants): Cold Face Test\n",
    "    * *subphase 2*: Arithmetic Task\n",
    "    * *subphase 3*: Feedback\n",
    "* **Debriefing Phase** (Phase 4)\n",
    "\n",
    "During the **Study Phase** time series *Heart Rate* data were recorded as follows: \n",
    "* normalized to the baseline heart rate &rarr;  time-series heart rate data for the subphases 1-3\n",
    "* resampled to 1 Hz\n",
    "\n",
    "    \n",
    "In the following, we want to implement code to get an overview of the heart rates in different phases/subphases and summarize the data of all phases and participants in a long-format data frame.\n",
    "\n",
    "**Hint**: Check the test cases presented for every subtask to see how the functions' input parameters are structured."
   ]
  },
  {
   "cell_type": "code",
   "execution_count": null,
   "id": "bb70c72e-1e11-43d2-95cd-86d11da06575",
   "metadata": {
    "tags": []
   },
   "outputs": [],
   "source": [
    "# run cell to load the data\n",
    "data_hr = bp.example_data.get_hr_ensemble_sample()\n",
    "data_saliva = bp.example_data.get_saliva_example()\n",
    "data_condition = data_saliva.reset_index()[[\"condition\", \"subject\"]].drop_duplicates().reset_index(drop=True).set_index(\"subject\")"
   ]
  },
  {
   "cell_type": "code",
   "execution_count": null,
   "id": "541a3677-ca22-420e-bd69-b966b50c0a94",
   "metadata": {},
   "outputs": [],
   "source": [
    "# run cell to visualize the data\n",
    "fig, ax = plt.subplots(figsize=(6, 4))\n",
    "data_hr[\"Phase1\"].mean(axis=1).plot(ax=ax, label=\"Phase1\")\n",
    "data_hr[\"Phase2\"].mean(axis=1).plot(ax=ax, label=\"Phase2\")\n",
    "data_hr[\"Phase3\"].mean(axis=1).plot(ax=ax, label=\"Phase3\")\n",
    "ax.axvline(50, color='k')\n",
    "ax.axvline(290, color='k')\n",
    "ax.axvspan(0, 49, alpha=0.2, color='tab:blue', label=\"subphase1\")\n",
    "ax.axvspan(50, 289, alpha=0.2, color='tab:orange', label=\"subphase2\")\n",
    "ax.axvspan(290, 493, alpha=0.2, color='tab:green', label=\"subphase2\")\n",
    "ax.set_xlabel(\"time [s]\")\n",
    "ax.set_ylabel(\"heart rate normalized to baseline\")\n",
    "ax.legend()\n",
    "fig.tight_layout()"
   ]
  },
  {
   "cell_type": "markdown",
   "id": "f7bf6521-cab1-4551-ba12-7c2dda84d6b9",
   "metadata": {},
   "source": [
    "##### 2.1 Since an error occurred in the heart rate recording for some participants, we need to drop their recordings from our data. Therefore, create a function called ``drop_cols`` which takes the parameters ``data`` and ``cols``:\n",
    "* ``data``: ``pandas.DataFrame`` containing the column-wise heart rate data from all the participants\n",
    "* ``cols``: list of participant names to be dropped\n",
    "* The function should return a ``pandas.DataFrame`` containing all the participants' data except for the ones mentioned in ``cols``"
   ]
  },
  {
   "cell_type": "code",
   "execution_count": null,
   "id": "ad296aa4-2d5e-43f8-9d5c-79febe665f12",
   "metadata": {
    "deletable": false,
    "nbgrader": {
     "cell_type": "code",
     "checksum": "10a82372f203638f6627fc8a95b7a146",
     "grade": false,
     "grade_id": "drop_columns",
     "locked": false,
     "schema_version": 3,
     "solution": true,
     "task": false
    },
    "tags": []
   },
   "outputs": [],
   "source": [
    "# YOUR CODE HERE\n",
    "raise NotImplementedError()"
   ]
  },
  {
   "cell_type": "code",
   "execution_count": null,
   "id": "27935d37-5ea6-4cea-aefb-cc1cffc3334c",
   "metadata": {
    "deletable": false,
    "editable": false,
    "nbgrader": {
     "cell_type": "code",
     "checksum": "c6c280e167272312715d83c267e3bd55",
     "grade": true,
     "grade_id": "drop_columns_test",
     "locked": true,
     "points": 1,
     "schema_version": 3,
     "solution": false,
     "task": false
    },
    "tags": []
   },
   "outputs": [],
   "source": [
    "# run tests to check your implementation\n",
    "data_test = pd.DataFrame([[1, 2, 3], [4, 5, 6]], columns=[\"A\", \"B\", \"C\"])\n",
    "assert drop_cols(data_test, [\"A\"]).shape == (2, 2), \"Check that you removed the in cols specified column\"\n",
    "assert list(drop_cols(data_test, [\"A\"]).columns) == [\"B\", \"C\"], \"Check that you removed the in cols specified columns\"\n",
    "assert list(drop_cols(data_test, [\"A\", \"C\"]).columns) == [\"B\"], \"Check that you can remove also multiple columns at the same time\""
   ]
  },
  {
   "cell_type": "markdown",
   "id": "02d80dec-6860-401a-a0a8-c23237f203ab",
   "metadata": {},
   "source": [
    "##### 2.2 Create a function ``calc_mean`` which takes the parameter ``data`` and calculates the column-wise mean:\n",
    "* ``data``: column-wise heart rate data for all participants\n",
    "* The function should return a ``pandas.DataFrame`` with the column-wise mean of ``data`` retaining its column names and with \"heart_rate\" as the index\n",
    "\n",
    "**Hint**: Check out if the [pandas.DataFrame.agg](https://pandas.pydata.org/docs/reference/api/pandas.DataFrame.agg.html) function can help you to solve this task. Give the parameter \"func\" of pandas.DataFrame.agg as type list for easier usage afterwards. "
   ]
  },
  {
   "cell_type": "code",
   "execution_count": null,
   "id": "711d5513-3acc-4894-905b-b847e0e3d6db",
   "metadata": {
    "deletable": false,
    "nbgrader": {
     "cell_type": "code",
     "checksum": "8500a5a0ba70f6e617633547caeb1eb3",
     "grade": false,
     "grade_id": "calc_mean",
     "locked": false,
     "schema_version": 3,
     "solution": true,
     "task": false
    },
    "tags": []
   },
   "outputs": [],
   "source": [
    "# YOUR CODE HERE\n",
    "raise NotImplementedError()"
   ]
  },
  {
   "cell_type": "code",
   "execution_count": null,
   "id": "985ca8b2-fedb-4e1c-ad44-1a60a2e5b9f0",
   "metadata": {
    "deletable": false,
    "editable": false,
    "nbgrader": {
     "cell_type": "code",
     "checksum": "84cff4498cc5539b864467d4f3a8e9c3",
     "grade": true,
     "grade_id": "calc_mean_test",
     "locked": true,
     "points": 1,
     "schema_version": 3,
     "solution": false,
     "task": false
    },
    "tags": []
   },
   "outputs": [],
   "source": [
    "# run tests to check your implementation\n",
    "data_test = pd.DataFrame([[1, 2, 3], [4, 5, 6]], columns=[\"A\", \"B\", \"C\"])\n",
    "result = calc_mean(data_test)\n",
    "assert type(result) == pd.DataFrame, \"Check if the return value of calc_mean() is of type pd.DataFrame. You can for example replace mean with [mean] in pd.DataFrame.agg to achieve this.\"\n",
    "assert list(result.index) == [\"heart_rate\"] and list(result.columns) == [\"A\", \"B\", \"C\"], \"Check that you maintain the original structure and set the index correctly\"\n",
    "assert list(result.loc[\"heart_rate\"]) == [2.5, 3.5, 4.5], \"Check that you calculate the mean column-wise\""
   ]
  },
  {
   "cell_type": "markdown",
   "id": "b18ce165-443b-4455-b7bb-e31737031794",
   "metadata": {},
   "source": [
    "##### 2.3 Create a function ``create_multi_index`` with the parameters ``participants``, ``condition``, ``phase``, and ``subphase``, which generates the multi-index for the long-format dataframe:\n",
    "* ``participants``: list of the participants included in the dataset\n",
    "* ``condition``: list of the conditions the ``participants`` belong to (Intervention/Control)\n",
    "* ``phase``: string of the name of the phase\n",
    "* ``subphase``: string of the name of the subphase\n",
    "* The function should return a ``pandas.MultiIndex``object with a multi-index tuple for every participant\n",
    "    * every tuple should contain the information about the participant's name, condition, phase, and subphase\n",
    "    * name the levels of the multi-index: participant, condition, phase, subphase\n",
    "\n",
    "**Hint**: Check out if the [pandas.MultiIndex.from_arrays](https://pandas.pydata.org/docs/reference/api/pandas.MultiIndex.from_arrays.html) function can help you with this task."
   ]
  },
  {
   "cell_type": "code",
   "execution_count": null,
   "id": "ca981b96-a7cb-4cfb-ac5e-61aad1d28318",
   "metadata": {
    "deletable": false,
    "nbgrader": {
     "cell_type": "code",
     "checksum": "b42d326488fc432045200b7cd91f45d4",
     "grade": false,
     "grade_id": "create_multi_index",
     "locked": false,
     "schema_version": 3,
     "solution": true,
     "task": false
    },
    "tags": []
   },
   "outputs": [],
   "source": [
    "# YOUR CODE HERE\n",
    "raise NotImplementedError()"
   ]
  },
  {
   "cell_type": "code",
   "execution_count": null,
   "id": "40349783-52a3-4285-9054-cb6739893650",
   "metadata": {
    "deletable": false,
    "editable": false,
    "nbgrader": {
     "cell_type": "code",
     "checksum": "09799e3b69c4ee884036d9c14967a0ea",
     "grade": true,
     "grade_id": "create_multi_index_test",
     "locked": true,
     "points": 2,
     "schema_version": 3,
     "solution": false,
     "task": false
    },
    "tags": []
   },
   "outputs": [],
   "source": [
    "# run tests to check your implementation\n",
    "result = create_multi_index([\"Vp01\", \"Vp02\", \"Vp03\"], [\"Intervention\", \"Control\", \"Control\"], \"Phase1\", \"Subphase1\")\n",
    "assert type(result) == pd.MultiIndex, \"Ensure that you return an instance of type pandas.MultiIndex\"\n",
    "assert result.names == [\"participant\", \"condition\", \"phase\", \"subphase\"], \"Ensure that you set the level names correctly\"\n",
    "assert result[0] == (\"Vp01\", \"Intervention\", \"Phase1\", \"Subphase1\"), \"Ensure that all information are contained and in the right order\"\n",
    "assert result[1] == (\"Vp02\", \"Control\", \"Phase1\", \"Subphase1\"), \"Ensure that all information are contained and in the right order\""
   ]
  },
  {
   "cell_type": "markdown",
   "id": "74bd1888-b464-477f-9dfe-eaaff61468d2",
   "metadata": {},
   "source": [
    "##### 2.4 In this task, we put all the created functions together and generate a long-format data frame containing the mean heart rate of every participant in every phase/subphase. To do so:\n",
    "* Create an empty ``pandas.DataFrame`` called ``data_all``, which in the end should contain the data from all phases and subphases\n",
    "* Loop over all the phases (1, 2, 3)\n",
    "    * Create a ``pandas.DataFrame`` called ``data`` which contains only the heart rate data of one phase of ``data_hr`` (Check out how ``data_hr`` is built)\n",
    "    * Remove the participants specified in ``drop_participants`` from ``data`` using ``drop_cols()``\n",
    "    * Loop over all the subphases (1, 2, 3)\n",
    "        * Slice ``data`` into the current subphase using the respective start and stop values specified in ``subphases`` and store it in the variable ``data_sub``\n",
    "        * calculate the mean heart rate of ``data_sub`` for every participant individually using ``calc_mean()`` and store it in ``data_mean``\n",
    "        * Generate the multi-index ``index`` using ``create_multi_index()``. Access the conditions of all participants from ``data_condition`` (defined in the beginning of the task).\n",
    "        * Set the column index of ``data_mean`` to ``index``\n",
    "        * [Transpose](https://pandas.pydata.org/docs/reference/api/pandas.DataFrame.transpose.html) ``data_mean`` and concatenate ``data_mean`` to ``data_all``\n",
    "* After calculating the mean for every phase and subphase, use [pandas.DataFrame.sort_index](https://pandas.pydata.org/docs/reference/api/pandas.DataFrame.sort_index.html) to sort ``data_all``\n",
    "* Display ``data_all``\n",
    "\n",
    "**Hint**: For iterating through the phases and subphases you can use the dictionary keys."
   ]
  },
  {
   "cell_type": "code",
   "execution_count": null,
   "id": "0f0c7727-16df-4233-bab9-0833398caea7",
   "metadata": {
    "deletable": false,
    "nbgrader": {
     "cell_type": "code",
     "checksum": "5116cd4b5f4528a077083d3d2d1a2332",
     "grade": false,
     "grade_id": "wide_to_long",
     "locked": false,
     "schema_version": 3,
     "solution": true,
     "task": false
    },
    "tags": []
   },
   "outputs": [],
   "source": [
    "subphases = {\n",
    "    \"Subphase1\": {\"start\": 0, \"stop\": 49},\n",
    "    \"Subphase2\": {\"start\": 50, \"stop\": 289},\n",
    "    \"Subphase3\": {\"start\": 290, \"stop\": -1}\n",
    "}\n",
    "drop_participants = [\"Vp07\", \"Vp22\"]\n",
    "\n",
    "# YOUR CODE HERE\n",
    "raise NotImplementedError()"
   ]
  },
  {
   "cell_type": "code",
   "execution_count": null,
   "id": "c9382c8a-f1ee-4f29-88a6-60a4fa5e92ca",
   "metadata": {
    "deletable": false,
    "editable": false,
    "nbgrader": {
     "cell_type": "code",
     "checksum": "26634e62d088b1739da4d223dbc288d8",
     "grade": true,
     "grade_id": "wide_to_long_test",
     "locked": true,
     "points": 3,
     "schema_version": 3,
     "solution": false,
     "task": false
    },
    "tags": []
   },
   "outputs": [],
   "source": [
    "# run tests to check your implementation\n",
    "assert data_all.index.names == [\"participant\", \"condition\", \"phase\", \"subphase\"] and list(data_all.columns) == [\"heart_rate\"], \"Ensure that you used create_multi_index()\"\n",
    "assert data_all.index[3] == (\"Vp01\", \"Intervention\", \"Phase2\", \"Subphase1\"), \"Ensure that you sort the dataframe\"\n",
    "assert len(set(list(data_all.index.get_level_values(0)))) == 26, \"Ensure that you remove the specified 2 participants\"\n",
    "assert set(list(data_all.index.get_level_values(2))) == {\"Phase1\", \"Phase2\", \"Phase3\"}, \"Ensure that you concatenate the data for all phases\"\n",
    "assert set(list(data_all.index.get_level_values(3))) == {\"Subphase1\", \"Subphase2\", \"Subphase3\"}, \"Ensure that you concatenate the data for all subphases\"\n",
    "assert data_all.shape == (234, 1), \"Ensure that store the data for all selected participants, phases, subphases\""
   ]
  },
  {
   "cell_type": "markdown",
   "id": "1656cb7e-d5e1-4368-9241-e062153cdfd8",
   "metadata": {},
   "source": [
    "##### 2.5 Create a function called ``calc_mean_grouped`` with the parameters ``data`` and ``levels``, which calculates the mean of ``data`` for the different groups specified by ``levels``:\n",
    "* ``data``: long-format data frame containing the heart rates for every participant in every phase and subphase\n",
    "* ``levels``: list of index level names indicating how to group the data\n",
    "* The function should return a ``pandas.DataFrame`` with all the grouped means\n",
    "\n",
    "Example: In the case of ``data`` being ``data_all`` and ``levels`` being ``[\"phase\", \"subphase\"]``, ``calc_mean_grouped()`` should return the mean over all participants for every phase - subphase combination, i. e. for Phase1 - Subphase1, Phase1 - Subphase 2, ... resulting in 9 different values.\n",
    "\n",
    "**Hint**: Check out if the [pandas.DataFrame.groupby](https://pandas.pydata.org/docs/reference/api/pandas.DataFrame.groupby.html) function can help you with this task."
   ]
  },
  {
   "cell_type": "code",
   "execution_count": null,
   "id": "55879376-2afd-4eb8-ab4c-d9711b196c94",
   "metadata": {
    "deletable": false,
    "nbgrader": {
     "cell_type": "code",
     "checksum": "0a09c561bd0ea7756c061d4945d404e8",
     "grade": false,
     "grade_id": "mean_grouped",
     "locked": false,
     "schema_version": 3,
     "solution": true,
     "task": false
    },
    "tags": []
   },
   "outputs": [],
   "source": [
    "# YOUR CODE HERE\n",
    "raise NotImplementedError()"
   ]
  },
  {
   "cell_type": "code",
   "execution_count": null,
   "id": "fdb71741-d20f-493d-8b97-0f14956bdb89",
   "metadata": {
    "deletable": false,
    "editable": false,
    "nbgrader": {
     "cell_type": "code",
     "checksum": "96fb664813aa4540debe0060278175a0",
     "grade": true,
     "grade_id": "mean_grouped_test",
     "locked": true,
     "points": 1,
     "schema_version": 3,
     "solution": false,
     "task": false
    },
    "tags": []
   },
   "outputs": [],
   "source": [
    "# run tests to check your implementation\n",
    "data_test = pd.DataFrame(np.array([1, 2, 3, 4, 5, 6, 7, 8]).T)\n",
    "data_test.index = pd.MultiIndex.from_product([[\"V1\", \"V2\"], [\"p1\", \"p2\"], [\"sp1\", \"sp2\"]], names=[\"V\", \"P\", \"SP\"])\n",
    "result = calc_mean_grouped(data_test, [\"P\"])\n",
    "assert list(result.index) == [\"p1\", \"p2\"], \"Ensure that your grouping works correctly\"\n",
    "assert list(result[0]) == [3.5, 5.5], \"Ensure that you take the mean correctly\"\n",
    "result = calc_mean_grouped(data_test, [\"P\", \"SP\"])\n",
    "assert list(result.index) == [(\"p1\", \"sp1\"), (\"p1\", \"sp2\"), (\"p2\", \"sp1\"), (\"p2\", \"sp2\")], \"Ensure that your grouping works correctly\"\n",
    "assert list(result[0]) == [3.0, 4.0, 5.0, 6.0], \"Ensure that you take the mean correctly\""
   ]
  },
  {
   "cell_type": "code",
   "execution_count": null,
   "id": "aacf528b-490f-4e71-a19a-98743239d83a",
   "metadata": {},
   "outputs": [],
   "source": [
    "# run cell to visualize the results\n",
    "fig, axs = plt.subplots(ncols=2, figsize=(8, 3), sharey=True)\n",
    "labels = ['-'.join(map(str,x)) for x in product([\"P1\", \"P2\", \"P3\"], [\"SP1\", \"SP2\", \"SP3\"])]\n",
    "data_mean = calc_mean_grouped(data_all, [\"phase\", \"subphase\"])\n",
    "axs[0].plot(data_mean.to_numpy(), label=\"both conditions\", marker='o')\n",
    "axs[0].legend()\n",
    "axs[0].set_ylabel(\"normalized mean heart rate\")\n",
    "axs[0].set_xticks(range(9))\n",
    "axs[0].set_xticklabels(labels, rotation=45)\n",
    "\n",
    "data_mean = calc_mean_grouped(data_all, [\"condition\", \"phase\", \"subphase\"])\n",
    "axs[1].plot(data_mean.xs(\"Intervention\", level=\"condition\").to_numpy(), label=\"intervention\", marker='o')\n",
    "axs[1].plot(data_mean.xs(\"Control\", level=\"condition\").to_numpy(), label=\"control\", marker='o')\n",
    "axs[1].legend()\n",
    "axs[1].set_xticks(range(9))\n",
    "axs[1].set_xticklabels(labels, rotation=45)\n",
    "fig.tight_layout()"
   ]
  },
  {
   "cell_type": "code",
   "execution_count": null,
   "id": "797330b5-3223-46f4-b224-5a1fc3ec92e8",
   "metadata": {},
   "outputs": [],
   "source": []
  }
 ],
 "metadata": {
  "kernelspec": {
   "display_name": "ads_exercise",
   "language": "python",
   "name": "ads_exercise"
  },
  "language_info": {
   "codemirror_mode": {
    "name": "ipython",
    "version": 3
   },
   "file_extension": ".py",
   "mimetype": "text/x-python",
   "name": "python",
   "nbconvert_exporter": "python",
   "pygments_lexer": "ipython3",
   "version": "3.9.6"
  }
 },
 "nbformat": 4,
 "nbformat_minor": 5
}
